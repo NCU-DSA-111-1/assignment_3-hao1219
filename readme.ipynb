{
 "cells": [
  {
   "cell_type": "markdown",
   "id": "f463c4e9",
   "metadata": {},
   "source": [
    "## **Huffman and Arithmetic** #\n",
    "***\n",
    "This project using two open source prject provided two algorithms for encoding/decoding text file \n",
    "## **Teachnics Description** #\n",
    "***\n",
    "This project use two algorithms, one is huffman and the other is arithmetic. For both of them,Data is encoded as a string of bits (0 and 1), and they provide a more efficient way of coding, i.e., encoding with fewer bits, thus achieving distortion-free data compression. \n",
    "\n",
    "Below figure is a huffman tree\n",
    "<div>\n",
    "<img src=\"Huffman_tree.png\" width=\"500\"/>\n",
    "</div>\n",
    "Below figure is a arithmetic tree\n",
    "<div>\n",
    "<img src=\"Arithmetic_coding.png\" width=\"500\"/>\n",
    "</div>\n",
    "\n",
    "\n",
    "## **Demo Setup** #\n",
    "1.All the required steps to compile and run the program is in the Hw3_opensouce.pdf  \n",
    "2.gcc version must be at least 8.1.0  \n"
   ]
  },
  {
   "cell_type": "code",
   "execution_count": null,
   "id": "675abafa",
   "metadata": {},
   "outputs": [],
   "source": []
  },
  {
   "cell_type": "code",
   "execution_count": null,
   "id": "882c33c8",
   "metadata": {},
   "outputs": [],
   "source": []
  }
 ],
 "metadata": {
  "kernelspec": {
   "display_name": "Python 3 (ipykernel)",
   "language": "python",
   "name": "python3"
  },
  "language_info": {
   "codemirror_mode": {
    "name": "ipython",
    "version": 3
   },
   "file_extension": ".py",
   "mimetype": "text/x-python",
   "name": "python",
   "nbconvert_exporter": "python",
   "pygments_lexer": "ipython3",
   "version": "3.9.12"
  }
 },
 "nbformat": 4,
 "nbformat_minor": 5
}
